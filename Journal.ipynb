{
 "cells": [
  {
   "cell_type": "markdown",
   "metadata": {},
   "source": [
    " # Code to Extract Heatmap from images:"
   ]
  },
  {
   "cell_type": "code",
   "execution_count": 3,
   "metadata": {},
   "outputs": [
    {
     "name": "stdout",
     "output_type": "stream",
     "text": [
      "Gravada imagem 1\n",
      "Gravada imagem 2\n",
      "Gravada imagem 3\n",
      "Gravada imagem 4\n",
      "Gravada imagem 5\n",
      "Gravada imagem 6\n",
      "Gravada imagem 7\n",
      "Gravada imagem 8\n",
      "Gravada imagem 9\n",
      "Gravada imagem 10\n",
      "Gravada imagem 11\n",
      "Gravada imagem 12\n",
      "Gravada imagem 13\n",
      "Gravada imagem 14\n",
      "Gravada imagem 15\n",
      "Gravada imagem 16\n",
      "Gravada imagem 17\n",
      "Gravada imagem 18\n",
      "Gravada imagem 19\n",
      "Gravada imagem 20\n",
      "Gravada imagem 21\n",
      "Gravada imagem 22\n",
      "Gravada imagem 23\n",
      "Gravada imagem 24\n",
      "Gravada imagem 25\n",
      "Gravada imagem 26\n",
      "Gravada imagem 27\n",
      "Gravada imagem 28\n",
      "Gravada imagem 29\n",
      "Gravada imagem 30\n",
      "Gravada imagem 31\n",
      "Gravada imagem 32\n",
      "Gravada imagem 33\n",
      "Gravada imagem 34\n",
      "Gravada imagem 35\n",
      "Gravada imagem 36\n",
      "Gravada imagem 37\n",
      "Gravada imagem 38\n",
      "Gravada imagem 39\n",
      "Gravada imagem 40\n",
      "Concatenando as imagens\n",
      "Finalizado!\n"
     ]
    }
   ],
   "source": [
    "Tipo = [x for x in range (1,41)] ## lista de 1 até 41\n",
    "\n",
    "for i in range (0,len(Tipo)):\n",
    "    extraction(str(Tipo[i]))\n",
    "    print(\"Gravada imagem {}\".format(i+1))\n",
    "print('Concatenando as imagens')\n",
    "Concatena(40)\n",
    "print(\"Finalizado!\")"
   ]
  },
  {
   "cell_type": "code",
   "execution_count": 19,
   "metadata": {},
   "outputs": [
    {
     "ename": "SyntaxError",
     "evalue": "invalid syntax (<ipython-input-19-d58f8566a4cb>, line 39)",
     "output_type": "error",
     "traceback": [
      "\u001b[0;36m  File \u001b[0;32m\"<ipython-input-19-d58f8566a4cb>\"\u001b[0;36m, line \u001b[0;32m39\u001b[0m\n\u001b[0;31m    Prof = [3,2,4,3,3,1,1,0,4,3,2,3,4,1,1,4,2,5,4,1,4,3,4,2,2,3,1,3,2,1,2,2,1,0,4,4,2,1,3,3,1]              ]\u001b[0m\n\u001b[0m                                                                                                            ^\u001b[0m\n\u001b[0;31mSyntaxError\u001b[0m\u001b[0;31m:\u001b[0m invalid syntax\n"
     ]
    }
   ],
   "source": [
    "%matplotlib inline\n",
    "import cv2\n",
    "import matplotlib.pyplot as plt\n",
    "import numpy as np\n",
    "\n",
    "def extraction(Tipo):\n",
    "\n",
    "\n",
    "    PATH = 'ToClassify/img'\n",
    "\n",
    "    L=[]\n",
    "    img = cv2.imread('' + PATH + Tipo + '/Pura.png') #Imagem Simples (sem heatmap) tamanho original 700x1000\n",
    "    # imgReduzida =  cv2.resize(img,(700,1000),interpolation=cv2.INTER_AREA)    #Imagem simples reduzida\n",
    "\n",
    "\n",
    "    for i in range (1,42):       #Imagens com Heatmap\n",
    "        imgAux = cv2.imread(''+ PATH + Tipo + '/' + str(i)+ '.png')\n",
    "        L.append(cv2.cvtColor(cv2.subtract(imgAux,img), cv2.COLOR_BGR2GRAY))\n",
    "        L[i-1] = cv2.resize(L[i-1],(250,175),interpolation=cv2.INTER_AREA)\n",
    "        L[i-1] = cv2.threshold(L[i-1], 70, 255, cv2.THRESH_BINARY)[1]\n",
    "\n",
    "        # ---------------------------------------------\n",
    "\n",
    "    Laux= [] #Vetor que junta as dimensões da imagem\n",
    "\n",
    "    for j in range (0,len(L)):\n",
    "        Laux.append(L[j].flatten())\n",
    "\n",
    "    # for j in range (0,len(L)+1):\n",
    "    #     Laux.append(L[j].reshape(-1,1).T)\n",
    "\n",
    "    # Laux2= []                  #Vetor que\n",
    "    # for j in range (0,26):\n",
    "    #     Laux2.append(Laux[j][0])\n",
    "\n",
    "    # -----------------------------------\n",
    "\n",
    "    # Prof = (1,1,4,1,1,1,1,0,4,1,1,1,4,1,1,4,1,5,4,1,4,1,4,1,1,1,1,1,1,1,1,1,1,0,4,4,1,1,1,1,1)\n",
    "    Prof = [3,2,4,3,3,1,1,0,4,3,2,3,4,1,1,4,2,5,4,1,4,3,4,2,2,3,1,3,2,1,2,2,1,0,4,4,2,1,3,3,1]              ]\n",
    "\n",
    "    # -----------------------------------\n",
    "    Nnim=[]\n",
    "    AcertosS= []\n",
    "    AcertosC= []\n",
    "    AcertosC2=[]\n",
    "    AcertosC3=[]\n",
    "    Laux2 = Laux\n",
    "    L_pca = Laux\n",
    "    #Retirar quartil 3,2 e 0 da lista:\n",
    "    L_pcaBxR= [] #nova lista de pca\n",
    "    ProfBxRcor= [] #nova lista de quartil\n",
    "    ProfBxR= [] #nova lista de quartil\n",
    "    LauxParaOrdenar = []\n",
    "\n",
    "    for i in range(0,len(Prof)):\n",
    "        if Prof[i]==1:\n",
    "            ProfBxR.append(1)\n",
    "            L_pcaBxR.append(L_pca[i])\n",
    "            ProfBxRcor.append('red')\n",
    "            LauxParaOrdenar.append(Laux2[i])\n",
    "        if Prof[i]==2:\n",
    "            ProfBxR.append(2)\n",
    "            L_pcaBxR.append(L_pca[i])\n",
    "            ProfBxRcor.append('red')\n",
    "            LauxParaOrdenar.append(Laux2[i])\n",
    "        if Prof[i]==3:\n",
    "            ProfBxR.append(3)\n",
    "            L_pcaBxR.append(L_pca[i])\n",
    "            ProfBxRcor.append('red')\n",
    "            LauxParaOrdenar.append(Laux2[i])\n",
    "        if Prof[i]==4:\n",
    "            ProfBxR.append(4)\n",
    "            L_pcaBxR.append(L_pca[i])\n",
    "            ProfBxRcor.append('green')\n",
    "            LauxParaOrdenar.append(Laux2[i])\n",
    "        if Prof[i]==5:\n",
    "            ProfBxR.append(5)\n",
    "            L_pcaBxR.append(L_pca[i])\n",
    "            ProfBxRcor.append('green')\n",
    "            LauxParaOrdenar.append(Laux2[i])\n",
    "\n",
    "    #-----------------------------------------------------------------------------------------            \n",
    "    #Ordenar os dados:\n",
    "    ProfOrdenado = []\n",
    "    L_pcaOrdenado= []\n",
    "    L_Ordenado = []\n",
    "    for i in range(0,len(ProfBxR)):\n",
    "            if ProfBxR[i] == 1:\n",
    "                ProfOrdenado.append(ProfBxR[i])\n",
    "                L_pcaOrdenado.append(L_pcaBxR[i])\n",
    "                L_Ordenado.append(LauxParaOrdenar[i])\n",
    "#========CASO QUEIRA ORDENAR APENAS OS RUINS x BONS, COMENTAR \\/========\n",
    "    for i in range(0,len(ProfBxR)):\n",
    "            if ProfBxR[i] == 2:\n",
    "                ProfOrdenado.append(ProfBxR[i])\n",
    "                L_pcaOrdenado.append(L_pcaBxR[i])\n",
    "                L_Ordenado.append(LauxParaOrdenar[i])\n",
    "    for i in range(0,len(ProfBxR)):\n",
    "            if ProfBxR[i] == 3:\n",
    "                ProfOrdenado.append(ProfBxR[i])\n",
    "                L_pcaOrdenado.append(L_pcaBxR[i])\n",
    "                L_Ordenado.append(LauxParaOrdenar[i])\n",
    "#========CASO QUEIRA ORDENAR APENAS OS RUINS x BONS, COMENTAR /\\========\n",
    "    for i in range(0,len(ProfBxR)):\n",
    "            if ProfBxR[i] == 4:\n",
    "                ProfOrdenado.append(ProfBxR[i])\n",
    "                L_pcaOrdenado.append(L_pcaBxR[i])\n",
    "                L_Ordenado.append(LauxParaOrdenar[i])\n",
    "    for i in range(0,len(ProfBxR)):\n",
    "            if ProfBxR[i] == 5:\n",
    "                ProfOrdenado.append(ProfBxR[i])\n",
    "                L_pcaOrdenado.append(L_pcaBxR[i])\n",
    "                L_Ordenado.append(LauxParaOrdenar[i])\n",
    "\n",
    "    np.savetxt(\"VETOR_IMAGENS/img\"+ Tipo +\"_GFMT.csv\", L_pcaOrdenado, delimiter=\",\")\n",
    "    np.savetxt(\"VETOR_IMAGENS/Prof.csv\", ProfOrdenado, delimiter=\",\")\n"
   ]
  },
  {
   "cell_type": "code",
   "execution_count": 20,
   "metadata": {},
   "outputs": [],
   "source": [
    "def Concatena(questoes):\n",
    "    l = []\n",
    "    for i in range(1,questoes+1):\n",
    "        x = np.loadtxt(\"VETOR_IMAGENS/img\"+str(i)+\"_GFMT.csv\",delimiter=\",\")\n",
    "        l.append(x)\n",
    "\n",
    "    l = np.array(l)\n",
    "#     print('size')\n",
    "    lcon = l.transpose(1,0,2).flatten('c').reshape(questoes*np.shape(x)[0],43750)\n",
    "#     print(np.shape(lcon))\n",
    "    # np.array(l.flatten('C'))\n",
    "    # np.shape(l)\n",
    "    np.savetxt(\"VETOR_IMAGENS/imgCONCATENADA_GFMT.csv\", lcon, delimiter=\",\")\n"
   ]
  },
  {
   "cell_type": "markdown",
   "metadata": {},
   "source": [
    "# ###------###------###------###------###"
   ]
  },
  {
   "cell_type": "markdown",
   "metadata": {},
   "source": [
    "# Extraction of individuals images"
   ]
  },
  {
   "cell_type": "markdown",
   "metadata": {},
   "source": [
    "### __Main__\n",
    "\n",
    "Call functions"
   ]
  },
  {
   "cell_type": "code",
   "execution_count": 49,
   "metadata": {},
   "outputs": [
    {
     "name": "stdout",
     "output_type": "stream",
     "text": [
      "End.\n"
     ]
    }
   ],
   "source": [
    "lista = [30,7,27,20,6,38,15,14,33,41]\n",
    "for i in range (0, len(lista)):\n",
    "    IndividualExtraction(lista[i])\n",
    "print(\"End.\")"
   ]
  },
  {
   "cell_type": "code",
   "execution_count": 4,
   "metadata": {},
   "outputs": [],
   "source": [
    "IndividualExtraction(30)"
   ]
  },
  {
   "cell_type": "code",
   "execution_count": 51,
   "metadata": {},
   "outputs": [],
   "source": [
    "Concatena()"
   ]
  },
  {
   "cell_type": "markdown",
   "metadata": {},
   "source": [
    "### __IndividualExtraction__\n",
    "\n",
    "This code will extract from a set of heat-maps especifically one person's eye-strategy through all the images "
   ]
  },
  {
   "cell_type": "code",
   "execution_count": 1,
   "metadata": {},
   "outputs": [],
   "source": [
    "%matplotlib inline\n",
    "import cv2\n",
    "import matplotlib.pyplot as plt\n",
    "import numpy as np\n",
    "\n",
    "def IndividualExtraction(Number):\n",
    "\n",
    "\n",
    "    PATH = 'ToClassify/img'\n",
    "\n",
    "    L=[]\n",
    "    \n",
    "    for i in range (1,41):       #Imagens com Heatmap\n",
    "        img = cv2.imread('' + PATH + str(i) + '/Pura.png')\n",
    "        imgAux = cv2.imread(''+ PATH + str(i) + '/' + str(Number)+ '.png')\n",
    "        L.append(cv2.cvtColor(cv2.subtract(imgAux,img), cv2.COLOR_BGR2GRAY))\n",
    "        L[i-1] = cv2.resize(L[i-1],(250,175),interpolation=cv2.INTER_AREA)\n",
    "        L[i-1] = cv2.threshold(L[i-1], 60, 255, cv2.THRESH_BINARY)[1]\n",
    "\n",
    "        # ---------------------------------------------\n",
    "\n",
    "    Laux= [] #Vetor que junta as dimensões da imagem\n",
    "\n",
    "    for j in range (0,len(L)):\n",
    "        Laux.append(L[j].flatten())\n",
    "\n",
    "    \n",
    "    np.savetxt(\"Individuals/\" + str(Number) +\"_GFMT.csv\", Laux, delimiter=\",\")\n"
   ]
  },
  {
   "cell_type": "markdown",
   "metadata": {},
   "source": [
    "### __Concatena__\n",
    "\n",
    "Concatenates all the data from IndividualExtraction into a csv file"
   ]
  },
  {
   "cell_type": "code",
   "execution_count": 2,
   "metadata": {},
   "outputs": [],
   "source": [
    "def Concatena():\n",
    "    l = []\n",
    "    Lista_individuos = [30,7,27,20,6,38,15,14,33,41]\n",
    "    for i in range(0,len(Lista_individuos)):\n",
    "        x = np.loadtxt(\"Individuals/\"+str(Lista_individuos[i])+\"_GFMT.csv\",delimiter=\",\")\n",
    "        l.append(x)\n",
    "\n",
    "    l = np.array(l)\n",
    "#     print('size')\n",
    "    lcon = l.transpose(1,0,2).flatten('c').reshape(len(Lista_individuos)*np.shape(x)[0],43750) #  \n",
    "#     print(np.shape(lcon))\n",
    "    # np.array(l.flatten('C'))\n",
    "    # np.shape(l)\n",
    "    np.savetxt(\"Individuals/imgCONCATENADA_GFMT.csv\", lcon, delimiter=\",\")\n"
   ]
  }
 ],
 "metadata": {
  "kernelspec": {
   "display_name": "Python 3",
   "language": "python",
   "name": "python3"
  },
  "language_info": {
   "codemirror_mode": {
    "name": "ipython",
    "version": 3
   },
   "file_extension": ".py",
   "mimetype": "text/x-python",
   "name": "python",
   "nbconvert_exporter": "python",
   "pygments_lexer": "ipython3",
   "version": "3.7.1"
  }
 },
 "nbformat": 4,
 "nbformat_minor": 2
}
