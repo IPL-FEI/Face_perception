{
 "cells": [
  {
   "cell_type": "markdown",
   "metadata": {},
   "source": [
    "### Pupil Analysis using TobiiStudio raw data\n",
    "##### by Víctor Varela"
   ]
  },
  {
   "cell_type": "code",
   "execution_count": 2,
   "metadata": {},
   "outputs": [],
   "source": [
    "# Packages:\n",
    "%matplotlib inline\n",
    "import pandas as pd\n",
    "import numpy as np\n",
    "import matplotlib.pyplot as plt"
   ]
  },
  {
   "cell_type": "code",
   "execution_count": 3,
   "metadata": {},
   "outputs": [],
   "source": [
    "# Import your database:\n",
    "db = pd.read_csv(\"Pupils_PA.tsv\",header = 0, sep = \"\\t\")"
   ]
  },
  {
   "cell_type": "code",
   "execution_count": 4,
   "metadata": {},
   "outputs": [
    {
     "data": {
      "text/html": [
       "<div>\n",
       "<style scoped>\n",
       "    .dataframe tbody tr th:only-of-type {\n",
       "        vertical-align: middle;\n",
       "    }\n",
       "\n",
       "    .dataframe tbody tr th {\n",
       "        vertical-align: top;\n",
       "    }\n",
       "\n",
       "    .dataframe thead th {\n",
       "        text-align: right;\n",
       "    }\n",
       "</style>\n",
       "<table border=\"1\" class=\"dataframe\">\n",
       "  <thead>\n",
       "    <tr style=\"text-align: right;\">\n",
       "      <th></th>\n",
       "      <th>ParticipantName</th>\n",
       "      <th>RecordingName</th>\n",
       "      <th>RecordingDuration</th>\n",
       "      <th>MediaName</th>\n",
       "      <th>RecordingTimestamp</th>\n",
       "      <th>KeyPressEventIndex</th>\n",
       "      <th>KeyPressEvent</th>\n",
       "      <th>PupilLeft</th>\n",
       "      <th>PupilRight</th>\n",
       "      <th>Unnamed: 9</th>\n",
       "    </tr>\n",
       "  </thead>\n",
       "  <tbody>\n",
       "    <tr>\n",
       "      <th>0</th>\n",
       "      <td>P01</td>\n",
       "      <td>Rec 01</td>\n",
       "      <td>190214</td>\n",
       "      <td>NaN</td>\n",
       "      <td>4</td>\n",
       "      <td>NaN</td>\n",
       "      <td>NaN</td>\n",
       "      <td>4.86</td>\n",
       "      <td>4.74</td>\n",
       "      <td>NaN</td>\n",
       "    </tr>\n",
       "    <tr>\n",
       "      <th>1</th>\n",
       "      <td>P01</td>\n",
       "      <td>Rec 01</td>\n",
       "      <td>190214</td>\n",
       "      <td>NaN</td>\n",
       "      <td>8</td>\n",
       "      <td>NaN</td>\n",
       "      <td>NaN</td>\n",
       "      <td>4.87</td>\n",
       "      <td>4.72</td>\n",
       "      <td>NaN</td>\n",
       "    </tr>\n",
       "    <tr>\n",
       "      <th>2</th>\n",
       "      <td>P01</td>\n",
       "      <td>Rec 01</td>\n",
       "      <td>190214</td>\n",
       "      <td>NaN</td>\n",
       "      <td>11</td>\n",
       "      <td>NaN</td>\n",
       "      <td>NaN</td>\n",
       "      <td>4.88</td>\n",
       "      <td>4.79</td>\n",
       "      <td>NaN</td>\n",
       "    </tr>\n",
       "    <tr>\n",
       "      <th>3</th>\n",
       "      <td>P01</td>\n",
       "      <td>Rec 01</td>\n",
       "      <td>190214</td>\n",
       "      <td>NaN</td>\n",
       "      <td>14</td>\n",
       "      <td>NaN</td>\n",
       "      <td>NaN</td>\n",
       "      <td>4.91</td>\n",
       "      <td>4.76</td>\n",
       "      <td>NaN</td>\n",
       "    </tr>\n",
       "    <tr>\n",
       "      <th>4</th>\n",
       "      <td>P01</td>\n",
       "      <td>Rec 01</td>\n",
       "      <td>190214</td>\n",
       "      <td>NaN</td>\n",
       "      <td>18</td>\n",
       "      <td>NaN</td>\n",
       "      <td>NaN</td>\n",
       "      <td>4.91</td>\n",
       "      <td>4.72</td>\n",
       "      <td>NaN</td>\n",
       "    </tr>\n",
       "  </tbody>\n",
       "</table>\n",
       "</div>"
      ],
      "text/plain": [
       "  ParticipantName RecordingName  RecordingDuration MediaName  \\\n",
       "0             P01        Rec 01             190214       NaN   \n",
       "1             P01        Rec 01             190214       NaN   \n",
       "2             P01        Rec 01             190214       NaN   \n",
       "3             P01        Rec 01             190214       NaN   \n",
       "4             P01        Rec 01             190214       NaN   \n",
       "\n",
       "   RecordingTimestamp  KeyPressEventIndex KeyPressEvent  PupilLeft  \\\n",
       "0                   4                 NaN           NaN       4.86   \n",
       "1                   8                 NaN           NaN       4.87   \n",
       "2                  11                 NaN           NaN       4.88   \n",
       "3                  14                 NaN           NaN       4.91   \n",
       "4                  18                 NaN           NaN       4.91   \n",
       "\n",
       "   PupilRight  Unnamed: 9  \n",
       "0        4.74         NaN  \n",
       "1        4.72         NaN  \n",
       "2        4.79         NaN  \n",
       "3        4.76         NaN  \n",
       "4        4.72         NaN  "
      ]
     },
     "execution_count": 4,
     "metadata": {},
     "output_type": "execute_result"
    }
   ],
   "source": [
    "# Show your Database:\n",
    "db.head()"
   ]
  },
  {
   "cell_type": "markdown",
   "metadata": {},
   "source": [
    "### Excluding (filtering) irrelevant collumns of your database"
   ]
  },
  {
   "cell_type": "code",
   "execution_count": 5,
   "metadata": {},
   "outputs": [],
   "source": [
    "# New db contains just the collumns: \"ParticipantName\",\"MediaName\" and \"PupilLeft\"\n",
    "db_0 = db.loc[:,[\"ParticipantName\",\"MediaName\",\"PupilLeft\"]]\n",
    "\n",
    "# Exclude \"NaN\" rows in \"MediaName\" and \"PupilLeft\" collumns\n",
    "db_0 = db_0.dropna(subset=[\"MediaName\",\"PupilLeft\"])\n",
    "\n",
    "# Exclude slide named 'Experimental GFTM.jpg'\n",
    "db_0 = db_0[db_0.MediaName != 'Experimental GFTM.jpg']\n",
    "\n",
    "#  Exclude empty \"MediaName\" rows\n",
    "db_0 = db_0[db_0.MediaName != '']\n",
    "\n"
   ]
  },
  {
   "cell_type": "code",
   "execution_count": 6,
   "metadata": {},
   "outputs": [
    {
     "data": {
      "text/html": [
       "<div>\n",
       "<style scoped>\n",
       "    .dataframe tbody tr th:only-of-type {\n",
       "        vertical-align: middle;\n",
       "    }\n",
       "\n",
       "    .dataframe tbody tr th {\n",
       "        vertical-align: top;\n",
       "    }\n",
       "\n",
       "    .dataframe thead th {\n",
       "        text-align: right;\n",
       "    }\n",
       "</style>\n",
       "<table border=\"1\" class=\"dataframe\">\n",
       "  <thead>\n",
       "    <tr style=\"text-align: right;\">\n",
       "      <th></th>\n",
       "      <th>ParticipantName</th>\n",
       "      <th>MediaName</th>\n",
       "      <th>PupilLeft</th>\n",
       "    </tr>\n",
       "  </thead>\n",
       "  <tbody>\n",
       "    <tr>\n",
       "      <th>16819</th>\n",
       "      <td>P01</td>\n",
       "      <td>1.jpg</td>\n",
       "      <td>4.65</td>\n",
       "    </tr>\n",
       "    <tr>\n",
       "      <th>16820</th>\n",
       "      <td>P01</td>\n",
       "      <td>1.jpg</td>\n",
       "      <td>4.65</td>\n",
       "    </tr>\n",
       "    <tr>\n",
       "      <th>16821</th>\n",
       "      <td>P01</td>\n",
       "      <td>1.jpg</td>\n",
       "      <td>4.65</td>\n",
       "    </tr>\n",
       "    <tr>\n",
       "      <th>16822</th>\n",
       "      <td>P01</td>\n",
       "      <td>1.jpg</td>\n",
       "      <td>4.67</td>\n",
       "    </tr>\n",
       "    <tr>\n",
       "      <th>16823</th>\n",
       "      <td>P01</td>\n",
       "      <td>1.jpg</td>\n",
       "      <td>4.64</td>\n",
       "    </tr>\n",
       "  </tbody>\n",
       "</table>\n",
       "</div>"
      ],
      "text/plain": [
       "      ParticipantName MediaName  PupilLeft\n",
       "16819             P01     1.jpg       4.65\n",
       "16820             P01     1.jpg       4.65\n",
       "16821             P01     1.jpg       4.65\n",
       "16822             P01     1.jpg       4.67\n",
       "16823             P01     1.jpg       4.64"
      ]
     },
     "execution_count": 6,
     "metadata": {},
     "output_type": "execute_result"
    }
   ],
   "source": [
    "# Show your Database:\n",
    "db_0.head()"
   ]
  },
  {
   "cell_type": "markdown",
   "metadata": {},
   "source": [
    "### Setting \"ParticipantName\" as Database index:"
   ]
  },
  {
   "cell_type": "code",
   "execution_count": 7,
   "metadata": {},
   "outputs": [],
   "source": [
    "#Save new Database, with \"ParticipantName\" as index \n",
    "db_1 = db_0.set_index(\"ParticipantName\")"
   ]
  },
  {
   "cell_type": "code",
   "execution_count": 8,
   "metadata": {},
   "outputs": [
    {
     "data": {
      "text/html": [
       "<div>\n",
       "<style scoped>\n",
       "    .dataframe tbody tr th:only-of-type {\n",
       "        vertical-align: middle;\n",
       "    }\n",
       "\n",
       "    .dataframe tbody tr th {\n",
       "        vertical-align: top;\n",
       "    }\n",
       "\n",
       "    .dataframe thead th {\n",
       "        text-align: right;\n",
       "    }\n",
       "</style>\n",
       "<table border=\"1\" class=\"dataframe\">\n",
       "  <thead>\n",
       "    <tr style=\"text-align: right;\">\n",
       "      <th></th>\n",
       "      <th>MediaName</th>\n",
       "      <th>PupilLeft</th>\n",
       "    </tr>\n",
       "    <tr>\n",
       "      <th>ParticipantName</th>\n",
       "      <th></th>\n",
       "      <th></th>\n",
       "    </tr>\n",
       "  </thead>\n",
       "  <tbody>\n",
       "    <tr>\n",
       "      <th>P01</th>\n",
       "      <td>1.jpg</td>\n",
       "      <td>4.65</td>\n",
       "    </tr>\n",
       "    <tr>\n",
       "      <th>P01</th>\n",
       "      <td>1.jpg</td>\n",
       "      <td>4.65</td>\n",
       "    </tr>\n",
       "    <tr>\n",
       "      <th>P01</th>\n",
       "      <td>1.jpg</td>\n",
       "      <td>4.65</td>\n",
       "    </tr>\n",
       "    <tr>\n",
       "      <th>P01</th>\n",
       "      <td>1.jpg</td>\n",
       "      <td>4.67</td>\n",
       "    </tr>\n",
       "    <tr>\n",
       "      <th>P01</th>\n",
       "      <td>1.jpg</td>\n",
       "      <td>4.64</td>\n",
       "    </tr>\n",
       "  </tbody>\n",
       "</table>\n",
       "</div>"
      ],
      "text/plain": [
       "                MediaName  PupilLeft\n",
       "ParticipantName                     \n",
       "P01                 1.jpg       4.65\n",
       "P01                 1.jpg       4.65\n",
       "P01                 1.jpg       4.65\n",
       "P01                 1.jpg       4.67\n",
       "P01                 1.jpg       4.64"
      ]
     },
     "execution_count": 8,
     "metadata": {},
     "output_type": "execute_result"
    }
   ],
   "source": [
    "# Show your Database:\n",
    "db_1.head()"
   ]
  },
  {
   "cell_type": "markdown",
   "metadata": {},
   "source": [
    "### Create vectors to your participants groups:"
   ]
  },
  {
   "cell_type": "code",
   "execution_count": 9,
   "metadata": {},
   "outputs": [],
   "source": [
    "  # Worst case scenario = Prosopagnosics:\n",
    "rec_Prosop = [\"P30\",\"P07\",\"P27\",\"P20\",\"P06\",\"P38\",\"P15\",\"P14\",\"P33\",\"P41\"]\n",
    "  # Intermediate group one:\n",
    "rec_Inter_1 = [\"P31\",\"P25\",\"P29\",\"P32\",\"P11\",\"P37\",\"P02\",\"P17\",\"P24\"]\n",
    "  # Intermediate group two:\n",
    "rec_Inter_2 = [\"P26\",\"P40\",\"P12\",\"P10\",\"P05\",\"P22\",\"P28\",\"P01\",\"P04\",\"P39\"]\n",
    "  # Best case scenario = Super-Recognizers:\n",
    "rec_SuperR = [\"P19\",\"P23\",\"P13\",\"P35\",\"P36\",\"P16\",\"P21\",\"P18\",\"P09\",\"P03\"]"
   ]
  },
  {
   "cell_type": "markdown",
   "metadata": {},
   "source": [
    "### Create vectors to discriminate your TobiiStudio slides"
   ]
  },
  {
   "cell_type": "code",
   "execution_count": 10,
   "metadata": {},
   "outputs": [],
   "source": [
    "slides = [\"1.jpg\",\"2.jpg\",\"3.jpg\",\"4.jpg\",\"5.jpg\",\"6.jpg\",\"7.jpg\",\"8.jpg\",\"9.jpg\",\"10.jpg\",\n",
    "         \"11.jpg\",\"12.jpg\",\"13.jpg\",\"14.jpg\",\"15.jpg\",\"16.jpg\",\"17.jpg\",\"18.jpg\",\"19.jpg\",\n",
    "         \"20.jpg\",\"21.jpg\",\"22.jpg\",\"23.jpg\",\"24.jpg\",\"25.jpg\",\"26.jpg\",\"27.jpg\",\"28.jpg\",\n",
    "         \"29.jpg\",\"30.jpg\",\"31.jpg\",\"32.jpg\",\"33.jpg\",\"34.jpg\",\"35.jpg\",\"36.jpg\",\"37.jpg\",\n",
    "         \"38.jpg\",\"39.jpg\",\"40.jpg\"]"
   ]
  },
  {
   "cell_type": "markdown",
   "metadata": {},
   "source": [
    "### Create separated databases for your groups:"
   ]
  },
  {
   "cell_type": "code",
   "execution_count": 28,
   "metadata": {},
   "outputs": [],
   "source": [
    "#Prosopagnosics database:\n",
    "db_Prosop = db_1.loc[rec_Prosop[0:len(rec_Prosop)],[\"MediaName\",\"PupilLeft\"]]\n",
    "\n",
    "#Super Recognizers Database:\n",
    "db_SuperR = db_1.loc[rec_SuperR[0:len(rec_SuperR)],[\"MediaName\",\"PupilLeft\"]]"
   ]
  },
  {
   "cell_type": "code",
   "execution_count": 29,
   "metadata": {},
   "outputs": [
    {
     "name": "stdout",
     "output_type": "stream",
     "text": [
      "######Prosopagnosics Database:######\n",
      "\n",
      "                MediaName  PupilLeft\n",
      "ParticipantName                     \n",
      "P30                 1.jpg       3.46\n",
      "P30                 1.jpg       3.46\n",
      "P30                 1.jpg       3.47\n",
      "P30                 1.jpg       3.46\n",
      "P30                 1.jpg       3.47\n",
      "\n",
      "\n",
      " ####Super Recognizer Database:######\n",
      "\n",
      "                MediaName  PupilLeft\n",
      "ParticipantName                     \n",
      "P19                 1.jpg       3.15\n",
      "P19                 1.jpg       3.14\n",
      "P19                 1.jpg       3.12\n",
      "P19                 1.jpg       3.15\n",
      "P19                 1.jpg       3.15\n"
     ]
    }
   ],
   "source": [
    "#Show your Databases:\n",
    "\n",
    "print(\"######Prosopagnosics Database:######\\n\")\n",
    "print(db_Prosop.head())\n",
    "print(\"\\n\\n ####Super Recognizer Database:######\\n\")\n",
    "print(db_SuperR.head())"
   ]
  },
  {
   "cell_type": "markdown",
   "metadata": {},
   "source": [
    "# Calculating Mean and Variance Pupil size"
   ]
  },
  {
   "cell_type": "markdown",
   "metadata": {},
   "source": [
    "THIS MODULE IS STILL IN VERIFICATION"
   ]
  },
  {
   "cell_type": "code",
   "execution_count": 30,
   "metadata": {
    "scrolled": true
   },
   "outputs": [
    {
     "name": "stdout",
     "output_type": "stream",
     "text": [
      "[3.560435, 3.41121, 3.73483, 3.2229500000000004, 2.9858500000000006, 3.84753, 4.018175, 3.8082350000000003, 4.34068, 4.32749]\n",
      "[0.013197960774999998, 0.0195814359, 0.006795671099999997, 0.0128833975, 0.021632877499999998, 0.0120545991, 0.015255919375000001, 0.023203834775000005, 0.006533937600000004, 0.0330079999]\n"
     ]
    }
   ],
   "source": [
    "# Prosopagnosics Database:\n",
    "\n",
    "meanP = [] #Vector that contains Pupil Mean size from Prosopagnosics Database\n",
    "varP  = [] #Vector that contains Pupil Variance from Prosopagnosics Database\n",
    "\n",
    "for i in range (0,len(rec_Prosop)):\n",
    "    prosop_List = db_Prosop.loc[rec_Prosop[i],\"PupilLeft\"]\n",
    "    shorted_List = prosop_List.iloc[0:2000]\n",
    "    meanP.append(np.mean(np.array(shorted_List)))\n",
    "    varP.append(np.var(np.array(shorted_List)))\n",
    "print(meanP)\n",
    "print(varP)\n"
   ]
  },
  {
   "cell_type": "code",
   "execution_count": 31,
   "metadata": {},
   "outputs": [
    {
     "name": "stdout",
     "output_type": "stream",
     "text": [
      "[3.263205, 3.676165, 3.089225, 3.9811, 4.13318, 3.8545250000000006, 3.659435, 3.506195, 3.7769800000000004, 4.825285000000001]\n",
      "[0.021095077974999998, 0.022954842774999998, 0.174078749375, 0.01628589, 0.016304887600000005, 0.022652274374999993, 0.016224930775000004, 0.013837471974999996, 0.019521379599999996, 0.007085018775]\n"
     ]
    }
   ],
   "source": [
    "# Super Recognizers Database:\n",
    "\n",
    "meanSR = [] #Vector that contains Pupil Mean size from Prosopagnosics Database\n",
    "varSR  = [] #Vector that contains Pupil Variance from Prosopagnosics Database\n",
    "for i in range (0,len(rec_SuperR)):\n",
    "    SR_List = db_SuperR.loc[rec_SuperR[i],\"PupilLeft\"]\n",
    "    shorted_List = SR_List.iloc[0:2000]\n",
    "    meanSR.append(np.mean(np.array(shorted_List)))\n",
    "    varSR.append(np.var(np.array(shorted_List)))\n",
    "print(meanSR)\n",
    "print(varSR)"
   ]
  },
  {
   "cell_type": "markdown",
   "metadata": {},
   "source": [
    "# Plots:"
   ]
  },
  {
   "cell_type": "code",
   "execution_count": 32,
   "metadata": {},
   "outputs": [],
   "source": [
    "#Reseting index to help plotting:\n",
    "db_SuperR_aux = db_SuperR.reset_index()\n",
    "db_Prosop_aux = db_Prosop.reset_index()"
   ]
  },
  {
   "cell_type": "code",
   "execution_count": 33,
   "metadata": {},
   "outputs": [
    {
     "data": {
      "text/plain": [
       "<matplotlib.axes._subplots.AxesSubplot at 0x7fdf3e146f28>"
      ]
     },
     "execution_count": 33,
     "metadata": {},
     "output_type": "execute_result"
    },
    {
     "data": {
      "image/png": "[encoded data removed]",
      "text/plain": [
       "<Figure size 1080x360 with 1 Axes>"
      ]
     },
     "metadata": {},
     "output_type": "display_data"
    },
    {
     "data": {
      "image/png": "[encoded data removed]",
      "text/plain": [
       "<Figure size 1080x360 with 1 Axes>"
      ]
     },
     "metadata": {},
     "output_type": "display_data"
    }
   ],
   "source": [
    "# Super Recognizers:\n",
    "db_SuperR_aux.boxplot(\"PupilLeft\", \"ParticipantName\" ,figsize=(15,5),rot=45, \n",
    "                      showfliers = False)\n",
    "\n",
    "db_SuperR_aux.boxplot(\"PupilLeft\", \"MediaName\" ,figsize=(15,5),rot=45, \n",
    "                      showfliers = False)\n"
   ]
  },
  {
   "cell_type": "code",
   "execution_count": 34,
   "metadata": {},
   "outputs": [
    {
     "data": {
      "text/plain": [
       "<matplotlib.axes._subplots.AxesSubplot at 0x7fdf3dcfba20>"
      ]
     },
     "execution_count": 34,
     "metadata": {},
     "output_type": "execute_result"
    },
    {
     "data": {
      "image/png": "[encoded data removed]",
      "text/plain": [
       "<Figure size 1080x360 with 1 Axes>"
      ]
     },
     "metadata": {},
     "output_type": "display_data"
    },
    {
     "data": {
      "image/png": "[encoded data removed]",
      "text/plain": [
       "<Figure size 1080x360 with 1 Axes>"
      ]
     },
     "metadata": {},
     "output_type": "display_data"
    }
   ],
   "source": [
    "# Prosopagnosics:\n",
    "\n",
    "db_Prosop_aux.boxplot(\"PupilLeft\", \"ParticipantName\", figsize=(15,5),rot = 45, showfliers = False)\n",
    "\n",
    "db_Prosop_aux.boxplot(\"PupilLeft\", \"MediaName\", figsize=(15,5),rot = 45, showfliers = False)"
   ]
  },
  {
   "cell_type": "markdown",
   "metadata": {},
   "source": [
    "### Plot Variance:"
   ]
  },
  {
   "cell_type": "code",
   "execution_count": 312,
   "metadata": {},
   "outputs": [
    {
     "name": "stderr",
     "output_type": "stream",
     "text": [
      "/usr/local/lib/python3.6/dist-packages/ipykernel_launcher.py:3: MatplotlibDeprecationWarning: pyplot.hold is deprecated.\n",
      "    Future behavior will be consistent with the long-time default:\n",
      "    plot commands add elements without first clearing the\n",
      "    Axes and/or Figure.\n",
      "  This is separate from the ipykernel package so we can avoid doing imports until\n",
      "/usr/local/lib/python3.6/dist-packages/matplotlib/__init__.py:911: MatplotlibDeprecationWarning: axes.hold is deprecated. Please remove it from your matplotlibrc and/or style files.\n",
      "  mplDeprecation)\n",
      "/usr/local/lib/python3.6/dist-packages/matplotlib/rcsetup.py:156: MatplotlibDeprecationWarning: axes.hold is deprecated, will be removed in 3.0\n",
      "  mplDeprecation)\n"
     ]
    },
    {
     "data": {
      "image/png": "[encoded data removed]",
      "text/plain": [
       "<Figure size 432x288 with 1 Axes>"
      ]
     },
     "metadata": {},
     "output_type": "display_data"
    }
   ],
   "source": [
    "plt.figure()\n",
    "plt.plot(varP)\n",
    "plt.hold(True)\n",
    "plt.plot(varSR)\n",
    "plt.show()"
   ]
  },
  {
   "cell_type": "markdown",
   "metadata": {},
   "source": [
    "# Plot Mean:"
   ]
  },
  {
   "cell_type": "code",
   "execution_count": 315,
   "metadata": {},
   "outputs": [
    {
     "name": "stderr",
     "output_type": "stream",
     "text": [
      "/usr/local/lib/python3.6/dist-packages/ipykernel_launcher.py:3: MatplotlibDeprecationWarning: pyplot.hold is deprecated.\n",
      "    Future behavior will be consistent with the long-time default:\n",
      "    plot commands add elements without first clearing the\n",
      "    Axes and/or Figure.\n",
      "  This is separate from the ipykernel package so we can avoid doing imports until\n",
      "/usr/local/lib/python3.6/dist-packages/matplotlib/__init__.py:911: MatplotlibDeprecationWarning: axes.hold is deprecated. Please remove it from your matplotlibrc and/or style files.\n",
      "  mplDeprecation)\n",
      "/usr/local/lib/python3.6/dist-packages/matplotlib/rcsetup.py:156: MatplotlibDeprecationWarning: axes.hold is deprecated, will be removed in 3.0\n",
      "  mplDeprecation)\n"
     ]
    },
    {
     "data": {
      "image/png": "[encoded data removed]",
      "text/plain": [
       "<Figure size 432x288 with 1 Axes>"
      ]
     },
     "metadata": {},
     "output_type": "display_data"
    }
   ],
   "source": [
    "plt.figure()\n",
    "plt.plot(meanP)\n",
    "plt.hold(True)\n",
    "plt.plot(meanSR)\n",
    "plt.grid(True)\n",
    "plt.show()"
   ]
  }
 ],
 "metadata": {
  "kernelspec": {
   "display_name": "Python 3",
   "language": "python",
   "name": "python3"
  },
  "language_info": {
   "codemirror_mode": {
    "name": "ipython",
    "version": 3
   },
   "file_extension": ".py",
   "mimetype": "text/x-python",
   "name": "python",
   "nbconvert_exporter": "python",
   "pygments_lexer": "ipython3",
   "version": "3.6.7"
  }
 },
 "nbformat": 4,
 "nbformat_minor": 2
}
